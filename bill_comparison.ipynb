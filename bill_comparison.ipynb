{
 "cells": [
  {
   "cell_type": "code",
   "execution_count": 17,
   "id": "41260677-513a-4740-a9bf-62144151c362",
   "metadata": {},
   "outputs": [],
   "source": [
    "# imports\n",
    "import os\n",
    "from openai import OpenAI\n",
    "from IPython.display import Markdown, display, update_display\n",
    "import gradio as gr\n",
    "from dotenv import load_dotenv\n",
    "import json\n",
    "from pydub import AudioSegment\n",
    "from pydub.playback import play\n",
    "import base64\n",
    "from io import BytesIO\n",
    "from PIL import Image\n",
    "import tempfile\n",
    "import subprocess\n",
    "from io import BytesIO\n",
    "from pydub import AudioSegment\n",
    "import time\n",
    "from bs4 import BeautifulSoup\n",
    "import requests\n",
    "from huggingface_hub import login\n",
    "from transformers import AutoTokenizer, AutoModelForCausalLM, TextStreamer, BitsAndBytesConfig\n",
    "import torch\n",
    "from transformers import pipeline\n",
    "from diffusers import DiffusionPipeline\n",
    "from datasets import load_dataset\n",
    "from IPython.display import Audio, display\n",
    "import pytesseract\n",
    "import numpy as np\n",
    "import PyPDF2\n",
    "from openai import ChatCompletion\n"
   ]
  },
  {
   "cell_type": "code",
   "execution_count": 18,
   "id": "a7e8f183-dae2-4f3f-b66f-874b29c13335",
   "metadata": {},
   "outputs": [],
   "source": [
    "pytesseract.pytesseract.tesseract_cmd = r\"C:\\Program Files\\Tesseract-OCR\\tesseract.exe\""
   ]
  },
  {
   "cell_type": "code",
   "execution_count": 19,
   "id": "f2327949-600f-4d49-b92d-cc0b9d06b57c",
   "metadata": {},
   "outputs": [
    {
     "name": "stdout",
     "output_type": "stream",
     "text": [
      "OpenAI API Key exists and begins sk-proj-\n"
     ]
    }
   ],
   "source": [
    "openai = OpenAI()\n",
    "\n",
    "load_dotenv()\n",
    "openai_api_key = os.getenv('OPENAI_API_KEY')\n",
    "hf_token = os.getenv(\"HF_TOKEN\")\n",
    "\n",
    "if openai_api_key:\n",
    "    print(f\"OpenAI API Key exists and begins {openai_api_key[:8]}\")\n",
    "else:\n",
    "    print(\"OpenAI API Key not set\")\n",
    "\n",
    "if hf_token:\n",
    "    print(\"HF_TOKEN API key exists\")\n"
   ]
  },
  {
   "cell_type": "code",
   "execution_count": 20,
   "id": "dd60b9a2-d793-4d3f-a831-50a4fcfea41b",
   "metadata": {},
   "outputs": [],
   "source": [
    "system_prompt = (\n",
    "    \"You are an assistant designed to help customers analyze and compare their bills. \"\n",
    "    \"When provided with two images of bills, respond briefly by identifying key pricing differences, highlighting increases, decreases, or unchanged amounts. \"\n",
    "    \"If a customer uploads an image that is not a bill, respond politely and inform them that only bill images are supported for analysis. \"\n",
    "    \"Additionally, provide a specific reasons for the changes in the bill, such as: \"\n",
    "    \"'This month bill increase was due to a Netflix subscription, which does not appear on the previous bill, a charge for an extra line ending in ###, and a roaming charge for a call made to France.'\"\n",
    ")\n"
   ]
  },
  {
   "cell_type": "code",
   "execution_count": 21,
   "id": "2015afc7-f29d-4a9f-aa39-c0873ee13cc3",
   "metadata": {},
   "outputs": [],
   "source": [
    "# Function to extract text from PDF\n",
    "def extract_text_from_pdf(pdf_file):\n",
    "    with open(pdf_file.name, 'rb') as f:\n",
    "        reader = PyPDF2.PdfReader(f)\n",
    "        return \" \".join(page.extract_text() for page in reader.pages)\n",
    "\n",
    "# Function to extract text from image\n",
    "def extract_text_from_image(image_file):\n",
    "    image = Image.open(image_file)\n",
    "    return pytesseract.image_to_string(image)\n",
    "\n",
    "# Main function to handle file uploads and comparison\n",
    "def compare_files(file1, file2):\n",
    "    # Determine file types and extract text\n",
    "    if file1.name.endswith('.pdf') and file2.name.endswith('.pdf'):\n",
    "        text1 = extract_text_from_pdf(file1)\n",
    "        text2 = extract_text_from_pdf(file2)\n",
    "    elif file1.name.lower().endswith(('png', 'jpg', 'jpeg')) and file2.name.lower().endswith(('png', 'jpg', 'jpeg')):\n",
    "        text1 = extract_text_from_image(file1)\n",
    "        text2 = extract_text_from_image(file2)\n",
    "    else:\n",
    "        return \"Error: Please upload two files of the same type (both PDFs or both images).\"\n",
    "\n",
    "    # Use OpenAI API to analyze the differences\n",
    "    response = openai.chat.completions.create(\n",
    "        model=\"gpt-4o-mini\",\n",
    "        messages=[\n",
    "            {\"role\": \"system\", \"content\": system_prompt},\n",
    "            {\"role\": \"user\", \"content\": f\"Compare the following bills. The key differences between {text1} and {text2} are:\\\\ and this is why:\"}\n",
    "        ]\n",
    "    )\n",
    "    return response.choices[0].message.content\n",
    "   "
   ]
  },
  {
   "cell_type": "code",
   "execution_count": 22,
   "id": "a96a8dca-fa40-478a-a706-81e9e9d51e7f",
   "metadata": {},
   "outputs": [
    {
     "name": "stdout",
     "output_type": "stream",
     "text": [
      "* Running on local URL:  http://127.0.0.1:7863\n",
      "* Running on public URL: https://5e825e2bffd486b43b.gradio.live\n",
      "\n",
      "This share link expires in 72 hours. For free permanent hosting and GPU upgrades, run `gradio deploy` from the terminal in the working directory to deploy to Hugging Face Spaces (https://huggingface.co/spaces)\n"
     ]
    },
    {
     "data": {
      "text/html": [
       "<div><iframe src=\"https://5e825e2bffd486b43b.gradio.live\" width=\"100%\" height=\"500\" allow=\"autoplay; camera; microphone; clipboard-read; clipboard-write;\" frameborder=\"0\" allowfullscreen></iframe></div>"
      ],
      "text/plain": [
       "<IPython.core.display.HTML object>"
      ]
     },
     "metadata": {},
     "output_type": "display_data"
    },
    {
     "data": {
      "text/plain": []
     },
     "execution_count": 22,
     "metadata": {},
     "output_type": "execute_result"
    }
   ],
   "source": [
    "# Gradio interface\n",
    "interface = gr.Interface(\n",
    "    fn=compare_files,\n",
    "    inputs=[\n",
    "        gr.File(type=\"filepath\", label=\"Upload First File (PDF or Image)\"),\n",
    "        gr.File(type=\"filepath\", label=\"Upload Second File (PDF or Image)\")\n",
    "    ],\n",
    "    outputs=\"text\",\n",
    "    title=\"File Comparison Tool\",\n",
    "    description=\"Upload two PDF files or two image files (PNG/JPG) to compare their content.\"\n",
    ")\n",
    "\n",
    "interface.launch(share=True)"
   ]
  },
  {
   "cell_type": "code",
   "execution_count": null,
   "id": "fdeb4c99-f67a-4f6a-9706-d635d8bcdba8",
   "metadata": {},
   "outputs": [],
   "source": []
  }
 ],
 "metadata": {
  "kernelspec": {
   "display_name": "Python 3 (ipykernel)",
   "language": "python",
   "name": "python3"
  },
  "language_info": {
   "codemirror_mode": {
    "name": "ipython",
    "version": 3
   },
   "file_extension": ".py",
   "mimetype": "text/x-python",
   "name": "python",
   "nbconvert_exporter": "python",
   "pygments_lexer": "ipython3",
   "version": "3.11.10"
  }
 },
 "nbformat": 4,
 "nbformat_minor": 5
}
